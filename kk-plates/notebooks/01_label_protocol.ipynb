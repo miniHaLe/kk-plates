## Labeling Guidelines

### 1. Bounding Box Rules

- **Tight fit**: Box should closely fit the plate edges
- **Include entire plate**: Don't cut off edges
- **Visible portion only**: For partially visible plates, label only the visible part
- **Minimum size**: Don't label plates smaller than 30x30 pixels

### 2. Color Classification Rules

#### Red Plates
- Bright red or dark red plates
- May have slight orange tint
- If unsure between red/yellow, check if more red than orange

#### Yellow Plates
- Bright yellow or golden plates  
- May have slight orange tint
- Includes light orange plates

#### Normal Plates
- White, gray, or silver plates
- Light beige or cream colored
- Any plate that's not clearly red or yellow

### 3. Special Cases

- **Stacked plates**: Label each visible plate separately
- **Plates with lids**: Include the lid in the bounding box
- **Dirty/stained plates**: Label based on original color if identifiable
- **Motion blur**: Skip if color cannot be determined
- **Severe occlusion**: Skip if less than 50% visible# Plate Labeling Protocol for Kichi-Kichi Dataset

This notebook provides detailed instructions for labeling plates in conveyor belt videos for the KK-Plates system.

## Overview

The goal is to create high-quality annotations for:
1. **Plate detection**: Bounding boxes around plates
2. **Color classification**: Red, Yellow, or Normal (white/gray) plates

## Tools

We support two annotation tools:
- **LabelMe**: Simple, local annotation tool
- **CVAT**: Professional web-based tool with team features

## Label Schema

### Object Class
- **Name**: `plate`
- **Type**: Rectangle bounding box

### Attributes
- **color**: 
  - Values: `red`, `yellow`, `normal`
  - Required: Yes
  - Description: The dominant color of the plate